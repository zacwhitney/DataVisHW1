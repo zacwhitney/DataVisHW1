{
  "nbformat": 4,
  "nbformat_minor": 0,
  "metadata": {
    "colab": {
      "name": "ZacharyWhitneyHW1.ipynb",
      "provenance": [],
      "collapsed_sections": [],
      "mount_file_id": "1ukkHxp_vjrT2NhiSS3pFR6kyYJGmkeui",
      "authorship_tag": "ABX9TyM4LmAIhwHj62JruRAPeCkQ",
      "include_colab_link": true
    },
    "kernelspec": {
      "name": "python3",
      "display_name": "Python 3"
    },
    "language_info": {
      "name": "python"
    }
  },
  "cells": [
    {
      "cell_type": "markdown",
      "metadata": {
        "id": "view-in-github",
        "colab_type": "text"
      },
      "source": [
        "<a href=\"https://colab.research.google.com/github/zacwhitney/DataVisHW1/blob/main/ZacharyWhitneyHW1.ipynb\" target=\"_parent\"><img src=\"https://colab.research.google.com/assets/colab-badge.svg\" alt=\"Open In Colab\"/></a>"
      ]
    },
    {
      "cell_type": "code",
      "execution_count": 78,
      "metadata": {
        "id": "erwVF2lSx6p4"
      },
      "outputs": [],
      "source": [
        "import pandas as pd "
      ]
    },
    {
      "cell_type": "code",
      "source": [
        "df = pd.read_csv('olympic_medals.csv')"
      ],
      "metadata": {
        "id": "OVZnto6LyAm0"
      },
      "execution_count": 77,
      "outputs": []
    },
    {
      "cell_type": "code",
      "source": [
        "df.shape \n",
        "#8 columns \n",
        "#2394 entries(rows)"
      ],
      "metadata": {
        "colab": {
          "base_uri": "https://localhost:8080/"
        },
        "id": "aQTH1P0H07wO",
        "outputId": "7e7b9bf8-8992-4fbd-9fd0-cb8a8b0de3ba"
      },
      "execution_count": null,
      "outputs": [
        {
          "output_type": "execute_result",
          "data": {
            "text/plain": [
              "(2394, 8)"
            ]
          },
          "metadata": {},
          "execution_count": 60
        }
      ]
    },
    {
      "cell_type": "code",
      "source": [
        "df.dtypes\n",
        "#all object type except for \"year\" which is int type "
      ],
      "metadata": {
        "colab": {
          "base_uri": "https://localhost:8080/"
        },
        "id": "vEec008l1Ygs",
        "outputId": "7a539fe5-daea-4777-e50b-7049bc669f69"
      },
      "execution_count": null,
      "outputs": [
        {
          "output_type": "execute_result",
          "data": {
            "text/plain": [
              "Gender         object\n",
              "Event          object\n",
              "Location       object\n",
              "Year            int64\n",
              "Medal          object\n",
              "Name           object\n",
              "Nationality    object\n",
              "Result         object\n",
              "dtype: object"
            ]
          },
          "metadata": {},
          "execution_count": 63
        }
      ]
    },
    {
      "cell_type": "code",
      "source": [
        "len(df['Location'].unique())\n",
        "df['Location'].unique().__len__()\n",
        "#23 "
      ],
      "metadata": {
        "id": "xJrb-7lX20f1",
        "colab": {
          "base_uri": "https://localhost:8080/"
        },
        "outputId": "9d7815ca-62ac-417d-a24b-99c45f8bfb6a"
      },
      "execution_count": 74,
      "outputs": [
        {
          "output_type": "execute_result",
          "data": {
            "text/plain": [
              "23"
            ]
          },
          "metadata": {},
          "execution_count": 74
        }
      ]
    },
    {
      "cell_type": "code",
      "source": [
        "len(df.loc[df['Nationality'] == 'USA'])\n",
        "#638"
      ],
      "metadata": {
        "id": "O1qibvKS3umo",
        "colab": {
          "base_uri": "https://localhost:8080/"
        },
        "outputId": "add4bd0c-5168-4cd5-ed05-11681ccf6d94"
      },
      "execution_count": 75,
      "outputs": [
        {
          "output_type": "execute_result",
          "data": {
            "text/plain": [
              "638"
            ]
          },
          "metadata": {},
          "execution_count": 75
        }
      ]
    },
    {
      "cell_type": "code",
      "source": [
        "df.groupby(by = 'Nationality')['Nationality'].count()"
      ],
      "metadata": {
        "id": "qWCQNKKY5Fla",
        "colab": {
          "base_uri": "https://localhost:8080/"
        },
        "outputId": "b9d8c5e9-1e59-483b-a56b-9a9d9c466e29"
      },
      "execution_count": 76,
      "outputs": [
        {
          "output_type": "execute_result",
          "data": {
            "text/plain": [
              "Nationality\n",
              "ALG      9\n",
              "ARG      4\n",
              "AUS     57\n",
              "AUT      4\n",
              "BAH     12\n",
              "      ... \n",
              "URS    131\n",
              "USA    638\n",
              "VEN      2\n",
              "YUG      1\n",
              "ZAM      1\n",
              "Name: Nationality, Length: 97, dtype: int64"
            ]
          },
          "metadata": {},
          "execution_count": 76
        }
      ]
    }
  ]
}